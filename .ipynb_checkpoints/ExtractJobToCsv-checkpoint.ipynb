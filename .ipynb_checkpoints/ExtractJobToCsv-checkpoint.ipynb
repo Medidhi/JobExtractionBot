{
 "cells": [
  {
   "cell_type": "code",
   "execution_count": 18,
   "metadata": {},
   "outputs": [],
   "source": [
    "import csv\n",
    "from datetime import datetime\n",
    "import requests\n",
    "from bs4 import BeautifulSoup\n",
    "import pandas as pd"
   ]
  },
  {
   "cell_type": "code",
   "execution_count": 10,
   "metadata": {},
   "outputs": [],
   "source": [
    "def get_url(position, location):\n",
    "    url = \"https://www.indeed.com/jobs?q={}&l={}\".format(position, location)\n",
    "    return url"
   ]
  },
  {
   "cell_type": "code",
   "execution_count": 14,
   "metadata": {},
   "outputs": [],
   "source": [
    "def extract_jobs(position, location):\n",
    "    url = get_url(position, location)\n",
    "    response = requests.get(url)\n",
    "    soup = BeautifulSoup(response.text, 'html.parser')\n",
    "    cards = soup.find_all(\"div\", \"jobsearch-SerpJobCard\")\n",
    "    \n",
    "    jobrecord = []\n",
    "    jobrecord.extend(get_Records(cards))\n",
    "    while True:\n",
    "        try:\n",
    "            url = \"https://www.indeed.com\"+soup.find(\"a\", {\"arial-label\": \"Next\"}).get(\"href\")\n",
    "        except AttributeError:\n",
    "            break\n",
    "        response = requests.get(url)\n",
    "        jobrecord.extend(get_Records(cards))\n",
    "    \n",
    "    return jobrecord"
   ]
  },
  {
   "cell_type": "code",
   "execution_count": 15,
   "metadata": {},
   "outputs": [],
   "source": [
    "def get_Records(cards):\n",
    "    job_records = []\n",
    "    for job in cards:\n",
    "        atag = job.h2.a\n",
    "        record = {}\n",
    "        record[\"titel\"] = atag.get('title')\n",
    "        record[\"job_url\"] = \"https://www.indeed.com/\" + atag.get('href')\n",
    "        record[\"company\"] = job.find(\"span\", \"company\").text.strip()\n",
    "        record[\"location\"] = job.find(\"div\", \"recJobLoc\").get(\"data-rc-loc\")\n",
    "        record[\"posted_date\"] = job.find(\"span\", \"date\").text\n",
    "        job_records.append(record)\n",
    "    return job_records"
   ]
  },
  {
   "cell_type": "code",
   "execution_count": 23,
   "metadata": {},
   "outputs": [],
   "source": [
    "data = pd.DataFrame(extract_jobs(\"software engineer\", \"california\"))\n",
    "data.to_excel(\"jobs.xlsx\")\n"
   ]
  },
  {
   "cell_type": "code",
   "execution_count": 5,
   "metadata": {},
   "outputs": [],
   "source": [
    "# Autofill"
   ]
  },
  {
   "cell_type": "code",
   "execution_count": null,
   "metadata": {},
   "outputs": [],
   "source": []
  }
 ],
 "metadata": {
  "kernelspec": {
   "display_name": "Python 3",
   "language": "python",
   "name": "python3"
  },
  "language_info": {
   "codemirror_mode": {
    "name": "ipython",
    "version": 3
   },
   "file_extension": ".py",
   "mimetype": "text/x-python",
   "name": "python",
   "nbconvert_exporter": "python",
   "pygments_lexer": "ipython3",
   "version": "3.8.5"
  }
 },
 "nbformat": 4,
 "nbformat_minor": 4
}
